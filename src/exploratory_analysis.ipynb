{
 "cells": [
  {
   "cell_type": "markdown",
   "metadata": {},
   "source": [
    "## Exploratory Data Analysis\n",
    "\n",
    "Use this notebook to get familiar with the datasets we have. There is 10 questions we need to answer during the EDA.\n",
    "\n",
    "\n",
    "We shouldn't limit our EDA to these 10 questions. Let's be creative :)."
   ]
  },
  {
   "cell_type": "code",
   "execution_count": 1,
   "metadata": {},
   "outputs": [],
   "source": [
    "from modules.data_gathering import get_working_dataset"
   ]
  },
  {
   "cell_type": "code",
   "execution_count": 2,
   "metadata": {},
   "outputs": [
    {
     "name": "stdout",
     "output_type": "stream",
     "text": [
      "supervised_flights_sample.csv exists. Reading from data folder\n"
     ]
    }
   ],
   "source": [
    "df = get_working_dataset()"
   ]
  },
  {
   "cell_type": "code",
   "execution_count": 99,
   "metadata": {},
   "outputs": [
    {
     "data": {
      "text/html": [
       "<div>\n",
       "<style scoped>\n",
       "    .dataframe tbody tr th:only-of-type {\n",
       "        vertical-align: middle;\n",
       "    }\n",
       "\n",
       "    .dataframe tbody tr th {\n",
       "        vertical-align: top;\n",
       "    }\n",
       "\n",
       "    .dataframe thead th {\n",
       "        text-align: right;\n",
       "    }\n",
       "</style>\n",
       "<table border=\"1\" class=\"dataframe\">\n",
       "  <thead>\n",
       "    <tr style=\"text-align: right;\">\n",
       "      <th></th>\n",
       "      <th>mkt_carrier_fl_num</th>\n",
       "      <th>op_carrier_fl_num</th>\n",
       "      <th>origin_airport_id</th>\n",
       "      <th>dest_airport_id</th>\n",
       "      <th>crs_dep_time</th>\n",
       "      <th>crs_arr_time</th>\n",
       "      <th>crs_elapsed_time</th>\n",
       "      <th>flights</th>\n",
       "      <th>distance</th>\n",
       "      <th>arr_delay</th>\n",
       "      <th>cancelled</th>\n",
       "      <th>carrier_delay</th>\n",
       "      <th>weather_delay</th>\n",
       "      <th>nas_delay</th>\n",
       "      <th>security_delay</th>\n",
       "      <th>late_aircraft_delay</th>\n",
       "      <th>lat</th>\n",
       "      <th>lng</th>\n",
       "    </tr>\n",
       "  </thead>\n",
       "  <tbody>\n",
       "    <tr>\n",
       "      <th>count</th>\n",
       "      <td>99426.000000</td>\n",
       "      <td>99426.000000</td>\n",
       "      <td>99426.000000</td>\n",
       "      <td>99426.000000</td>\n",
       "      <td>99426.000000</td>\n",
       "      <td>99426.000000</td>\n",
       "      <td>99425.000000</td>\n",
       "      <td>99426.0</td>\n",
       "      <td>99426.000000</td>\n",
       "      <td>97489.000000</td>\n",
       "      <td>99426.000000</td>\n",
       "      <td>18841.000000</td>\n",
       "      <td>18841.000000</td>\n",
       "      <td>18841.000000</td>\n",
       "      <td>18841.000000</td>\n",
       "      <td>18841.000000</td>\n",
       "      <td>99426.000000</td>\n",
       "      <td>99426.000000</td>\n",
       "    </tr>\n",
       "    <tr>\n",
       "      <th>mean</th>\n",
       "      <td>2736.086124</td>\n",
       "      <td>2736.012713</td>\n",
       "      <td>12679.558888</td>\n",
       "      <td>12679.496178</td>\n",
       "      <td>1332.782431</td>\n",
       "      <td>1485.454086</td>\n",
       "      <td>138.164576</td>\n",
       "      <td>1.0</td>\n",
       "      <td>770.610967</td>\n",
       "      <td>5.399481</td>\n",
       "      <td>0.016615</td>\n",
       "      <td>20.370946</td>\n",
       "      <td>3.694125</td>\n",
       "      <td>16.007006</td>\n",
       "      <td>0.077915</td>\n",
       "      <td>26.911682</td>\n",
       "      <td>37.153943</td>\n",
       "      <td>-94.292046</td>\n",
       "    </tr>\n",
       "    <tr>\n",
       "      <th>std</th>\n",
       "      <td>1859.400357</td>\n",
       "      <td>1859.332934</td>\n",
       "      <td>1521.687634</td>\n",
       "      <td>1524.873692</td>\n",
       "      <td>491.138019</td>\n",
       "      <td>520.139802</td>\n",
       "      <td>71.710737</td>\n",
       "      <td>0.0</td>\n",
       "      <td>586.339945</td>\n",
       "      <td>49.435901</td>\n",
       "      <td>0.127826</td>\n",
       "      <td>65.153575</td>\n",
       "      <td>31.059508</td>\n",
       "      <td>36.092636</td>\n",
       "      <td>2.481991</td>\n",
       "      <td>50.208644</td>\n",
       "      <td>5.767038</td>\n",
       "      <td>17.962303</td>\n",
       "    </tr>\n",
       "    <tr>\n",
       "      <th>min</th>\n",
       "      <td>1.000000</td>\n",
       "      <td>1.000000</td>\n",
       "      <td>10135.000000</td>\n",
       "      <td>10135.000000</td>\n",
       "      <td>1.000000</td>\n",
       "      <td>1.000000</td>\n",
       "      <td>20.000000</td>\n",
       "      <td>1.0</td>\n",
       "      <td>31.000000</td>\n",
       "      <td>-74.000000</td>\n",
       "      <td>0.000000</td>\n",
       "      <td>0.000000</td>\n",
       "      <td>0.000000</td>\n",
       "      <td>0.000000</td>\n",
       "      <td>0.000000</td>\n",
       "      <td>0.000000</td>\n",
       "      <td>18.012700</td>\n",
       "      <td>-166.568000</td>\n",
       "    </tr>\n",
       "    <tr>\n",
       "      <th>25%</th>\n",
       "      <td>1142.000000</td>\n",
       "      <td>1142.000000</td>\n",
       "      <td>11292.000000</td>\n",
       "      <td>11292.000000</td>\n",
       "      <td>918.000000</td>\n",
       "      <td>1100.000000</td>\n",
       "      <td>87.000000</td>\n",
       "      <td>1.0</td>\n",
       "      <td>342.000000</td>\n",
       "      <td>-15.000000</td>\n",
       "      <td>0.000000</td>\n",
       "      <td>0.000000</td>\n",
       "      <td>0.000000</td>\n",
       "      <td>0.000000</td>\n",
       "      <td>0.000000</td>\n",
       "      <td>0.000000</td>\n",
       "      <td>33.736700</td>\n",
       "      <td>-106.836900</td>\n",
       "    </tr>\n",
       "    <tr>\n",
       "      <th>50%</th>\n",
       "      <td>2315.000000</td>\n",
       "      <td>2315.000000</td>\n",
       "      <td>12889.000000</td>\n",
       "      <td>12889.000000</td>\n",
       "      <td>1325.000000</td>\n",
       "      <td>1514.000000</td>\n",
       "      <td>119.000000</td>\n",
       "      <td>1.0</td>\n",
       "      <td>604.000000</td>\n",
       "      <td>-6.000000</td>\n",
       "      <td>0.000000</td>\n",
       "      <td>0.000000</td>\n",
       "      <td>0.000000</td>\n",
       "      <td>2.000000</td>\n",
       "      <td>0.000000</td>\n",
       "      <td>4.000000</td>\n",
       "      <td>37.755800</td>\n",
       "      <td>-87.686600</td>\n",
       "    </tr>\n",
       "    <tr>\n",
       "      <th>75%</th>\n",
       "      <td>4321.000000</td>\n",
       "      <td>4321.000000</td>\n",
       "      <td>14057.000000</td>\n",
       "      <td>14057.000000</td>\n",
       "      <td>1737.000000</td>\n",
       "      <td>1919.000000</td>\n",
       "      <td>168.000000</td>\n",
       "      <td>1.0</td>\n",
       "      <td>1005.000000</td>\n",
       "      <td>8.000000</td>\n",
       "      <td>0.000000</td>\n",
       "      <td>17.000000</td>\n",
       "      <td>0.000000</td>\n",
       "      <td>19.000000</td>\n",
       "      <td>0.000000</td>\n",
       "      <td>34.000000</td>\n",
       "      <td>40.777600</td>\n",
       "      <td>-80.830300</td>\n",
       "    </tr>\n",
       "    <tr>\n",
       "      <th>max</th>\n",
       "      <td>9388.000000</td>\n",
       "      <td>9388.000000</td>\n",
       "      <td>16869.000000</td>\n",
       "      <td>16869.000000</td>\n",
       "      <td>2359.000000</td>\n",
       "      <td>2359.000000</td>\n",
       "      <td>690.000000</td>\n",
       "      <td>1.0</td>\n",
       "      <td>5095.000000</td>\n",
       "      <td>1610.000000</td>\n",
       "      <td>1.000000</td>\n",
       "      <td>1576.000000</td>\n",
       "      <td>1078.000000</td>\n",
       "      <td>1055.000000</td>\n",
       "      <td>254.000000</td>\n",
       "      <td>1219.000000</td>\n",
       "      <td>66.876600</td>\n",
       "      <td>-66.061000</td>\n",
       "    </tr>\n",
       "  </tbody>\n",
       "</table>\n",
       "</div>"
      ],
      "text/plain": [
       "       mkt_carrier_fl_num  op_carrier_fl_num  origin_airport_id  \\\n",
       "count        99426.000000       99426.000000       99426.000000   \n",
       "mean          2736.086124        2736.012713       12679.558888   \n",
       "std           1859.400357        1859.332934        1521.687634   \n",
       "min              1.000000           1.000000       10135.000000   \n",
       "25%           1142.000000        1142.000000       11292.000000   \n",
       "50%           2315.000000        2315.000000       12889.000000   \n",
       "75%           4321.000000        4321.000000       14057.000000   \n",
       "max           9388.000000        9388.000000       16869.000000   \n",
       "\n",
       "       dest_airport_id  crs_dep_time  crs_arr_time  crs_elapsed_time  flights  \\\n",
       "count     99426.000000  99426.000000  99426.000000      99425.000000  99426.0   \n",
       "mean      12679.496178   1332.782431   1485.454086        138.164576      1.0   \n",
       "std        1524.873692    491.138019    520.139802         71.710737      0.0   \n",
       "min       10135.000000      1.000000      1.000000         20.000000      1.0   \n",
       "25%       11292.000000    918.000000   1100.000000         87.000000      1.0   \n",
       "50%       12889.000000   1325.000000   1514.000000        119.000000      1.0   \n",
       "75%       14057.000000   1737.000000   1919.000000        168.000000      1.0   \n",
       "max       16869.000000   2359.000000   2359.000000        690.000000      1.0   \n",
       "\n",
       "           distance     arr_delay     cancelled  carrier_delay  weather_delay  \\\n",
       "count  99426.000000  97489.000000  99426.000000   18841.000000   18841.000000   \n",
       "mean     770.610967      5.399481      0.016615      20.370946       3.694125   \n",
       "std      586.339945     49.435901      0.127826      65.153575      31.059508   \n",
       "min       31.000000    -74.000000      0.000000       0.000000       0.000000   \n",
       "25%      342.000000    -15.000000      0.000000       0.000000       0.000000   \n",
       "50%      604.000000     -6.000000      0.000000       0.000000       0.000000   \n",
       "75%     1005.000000      8.000000      0.000000      17.000000       0.000000   \n",
       "max     5095.000000   1610.000000      1.000000    1576.000000    1078.000000   \n",
       "\n",
       "          nas_delay  security_delay  late_aircraft_delay           lat  \\\n",
       "count  18841.000000    18841.000000         18841.000000  99426.000000   \n",
       "mean      16.007006        0.077915            26.911682     37.153943   \n",
       "std       36.092636        2.481991            50.208644      5.767038   \n",
       "min        0.000000        0.000000             0.000000     18.012700   \n",
       "25%        0.000000        0.000000             0.000000     33.736700   \n",
       "50%        2.000000        0.000000             4.000000     37.755800   \n",
       "75%       19.000000        0.000000            34.000000     40.777600   \n",
       "max     1055.000000      254.000000          1219.000000     66.876600   \n",
       "\n",
       "                lng  \n",
       "count  99426.000000  \n",
       "mean     -94.292046  \n",
       "std       17.962303  \n",
       "min     -166.568000  \n",
       "25%     -106.836900  \n",
       "50%      -87.686600  \n",
       "75%      -80.830300  \n",
       "max      -66.061000  "
      ]
     },
     "execution_count": 99,
     "metadata": {},
     "output_type": "execute_result"
    }
   ],
   "source": [
    "df.describe()"
   ]
  },
  {
   "cell_type": "markdown",
   "metadata": {},
   "source": [
    "#### **Task 1**: Test the hypothesis that the delay is from Normal distribution. and that **mean** of the delay is 0. Be careful about the outliers."
   ]
  },
  {
   "cell_type": "code",
   "execution_count": 8,
   "metadata": {},
   "outputs": [
    {
     "data": {
      "text/plain": [
       "<AxesSubplot:ylabel='Density'>"
      ]
     },
     "execution_count": 8,
     "metadata": {},
     "output_type": "execute_result"
    },
    {
     "data": {
      "image/png": "[encoded data removed]",
      "text/plain": [
       "<Figure size 432x288 with 1 Axes>"
      ]
     },
     "metadata": {
      "needs_background": "light"
     },
     "output_type": "display_data"
    }
   ],
   "source": [
    "arr = df.loc[df[\"arr_delay\"] < 200, \"arr_delay\"]\n",
    "\n",
    "arr.plot.kde()"
   ]
  },
  {
   "cell_type": "code",
   "execution_count": null,
   "metadata": {},
   "outputs": [],
   "source": []
  },
  {
   "cell_type": "markdown",
   "metadata": {},
   "source": [
    "#### **Task 2**: Is average/median monthly delay different during the year? If yes, which are months with the biggest delays and what could be the reason?"
   ]
  },
  {
   "cell_type": "code",
   "execution_count": 69,
   "metadata": {},
   "outputs": [],
   "source": [
    "import pandas as pd\n",
    "import matplotlib.pyplot as plt\n",
    "import numpy as np"
   ]
  },
  {
   "cell_type": "code",
   "execution_count": 79,
   "metadata": {},
   "outputs": [],
   "source": [
    "df[\"fl_date\"] = pd.to_datetime(df[\"fl_date\"])\n",
    "flight_delays = df[[\"fl_date\", \"arr_delay\"]].set_index(\"fl_date\")\n",
    "\n",
    "def plot_bars(agg_func):\n",
    "  agg = flight_delays.groupby([flight_delays.index.year, flight_delays.index.month]).agg(agg_func)\n",
    "  fig, ax = plt.subplots(figsize=(20,10))\n",
    "  x=agg.loc[2018].reset_index()[\"fl_date\"]\n",
    "  y=agg.loc[2018].reset_index()[\"arr_delay\"]\n",
    "  ax.bar(x, y, label=\"2018\", width=0.35)\n",
    "  x=agg.loc[2019].reset_index()[\"fl_date\"]\n",
    "  y=agg.loc[2019].reset_index()[\"arr_delay\"]\n",
    "  ax.bar(x+0.35, y, label=\"2019\", width=0.35)\n",
    "  ax.set_xlabel(\"Month\")\n",
    "  ax.set_ylabel(f\"{agg_func} Arrival Delay (Minutes)\")\n",
    "  ax.legend()\n",
    "  plt.show()\n"
   ]
  },
  {
   "cell_type": "code",
   "execution_count": 80,
   "metadata": {},
   "outputs": [
    {
     "data": {
      "image/png": "[encoded data removed]",
      "text/plain": [
       "<Figure size 1440x720 with 1 Axes>"
      ]
     },
     "metadata": {
      "needs_background": "light"
     },
     "output_type": "display_data"
    }
   ],
   "source": [
    "plot_bars(\"sum\")"
   ]
  },
  {
   "cell_type": "code",
   "execution_count": 81,
   "metadata": {},
   "outputs": [
    {
     "data": {
      "image/png": "[encoded data removed]",
      "text/plain": [
       "<Figure size 1440x720 with 1 Axes>"
      ]
     },
     "metadata": {
      "needs_background": "light"
     },
     "output_type": "display_data"
    }
   ],
   "source": [
    "plot_bars(\"mean\")"
   ]
  },
  {
   "cell_type": "code",
   "execution_count": 82,
   "metadata": {},
   "outputs": [
    {
     "data": {
      "image/png": "[encoded data removed]",
      "text/plain": [
       "<Figure size 1440x720 with 1 Axes>"
      ]
     },
     "metadata": {
      "needs_background": "light"
     },
     "output_type": "display_data"
    }
   ],
   "source": [
    "plot_bars(\"median\")"
   ]
  },
  {
   "cell_type": "markdown",
   "metadata": {},
   "source": [
    "#### **Task 3**: Does the weather affect the delay? \n",
    "Use the API to pull the weather information for flights. There is no need to get weather for ALL flights. We can choose the right representative sample. Let's focus on four weather types:\n",
    "- sunny\n",
    "- cloudy\n",
    "- rainy\n",
    "- snow.\n",
    "Test the hypothesis that these 4 delays are from the same distribution. If they are not, which ones are significantly different?"
   ]
  },
  {
   "cell_type": "code",
   "execution_count": 163,
   "metadata": {},
   "outputs": [
    {
     "name": "stdout",
     "output_type": "stream",
     "text": [
      "2018-01-01 00:00:00\n",
      "2019-12-31 00:00:00\n"
     ]
    }
   ],
   "source": [
    "s = df.sample(10_000)\n",
    "print(s[\"fl_date\"].min())\n",
    "print(s[\"fl_date\"].max())"
   ]
  },
  {
   "cell_type": "code",
   "execution_count": 91,
   "metadata": {},
   "outputs": [],
   "source": [
    "wdf = pd.read_csv(\"../data/flights_with_weather.csv\")"
   ]
  },
  {
   "cell_type": "code",
   "execution_count": 164,
   "metadata": {},
   "outputs": [],
   "source": [
    "group =wdf.groupby(\"Type\")[\"arr_delay\"]\n"
   ]
  },
  {
   "cell_type": "code",
   "execution_count": 166,
   "metadata": {},
   "outputs": [
    {
     "data": {
      "text/plain": [
       "Type\n",
       "Cold               869\n",
       "Fog               7445\n",
       "Hail                40\n",
       "Precipitation      510\n",
       "Rain             22277\n",
       "Snow              2621\n",
       "Storm              201\n",
       "Name: arr_delay, dtype: int64"
      ]
     },
     "execution_count": 166,
     "metadata": {},
     "output_type": "execute_result"
    }
   ],
   "source": [
    "group.count()"
   ]
  },
  {
   "cell_type": "code",
   "execution_count": null,
   "metadata": {},
   "outputs": [],
   "source": [
    "\n",
    "dfs = [group.get_group(x) for x in group.groups]\n"
   ]
  },
  {
   "cell_type": "code",
   "execution_count": 102,
   "metadata": {},
   "outputs": [],
   "source": [
    "import scipy.stats as st"
   ]
  },
  {
   "cell_type": "code",
   "execution_count": 107,
   "metadata": {},
   "outputs": [
    {
     "data": {
      "text/plain": [
       "F_onewayResult(statistic=22.99529639810123, pvalue=3.06299286450936e-27)"
      ]
     },
     "execution_count": 107,
     "metadata": {},
     "output_type": "execute_result"
    }
   ],
   "source": [
    "st.f_oneway(*dfs)"
   ]
  },
  {
   "cell_type": "markdown",
   "metadata": {},
   "source": [
    "#### **Task 4**: How taxi times changing during the day? Does higher traffic lead to bigger taxi times?"
   ]
  },
  {
   "cell_type": "code",
   "execution_count": 108,
   "metadata": {},
   "outputs": [
    {
     "name": "stdout",
     "output_type": "stream",
     "text": [
      "flights_sample.csv file exists. Retrieving from /data\n"
     ]
    }
   ],
   "source": [
    "from modules.data_gathering import get_data_sample\n",
    "\n",
    "taxi = get_data_sample(table_name=\"flights\")\n"
   ]
  },
  {
   "cell_type": "code",
   "execution_count": 114,
   "metadata": {},
   "outputs": [],
   "source": [
    "taxi = taxi[[\"fl_date\", \"taxi_in\", \"taxi_out\", \"arr_delay\"]]\n"
   ]
  },
  {
   "cell_type": "code",
   "execution_count": 123,
   "metadata": {},
   "outputs": [
    {
     "name": "stderr",
     "output_type": "stream",
     "text": [
      "/tmp/ipykernel_13298/842577225.py:1: SettingWithCopyWarning: \n",
      "A value is trying to be set on a copy of a slice from a DataFrame.\n",
      "Try using .loc[row_indexer,col_indexer] = value instead\n",
      "\n",
      "See the caveats in the documentation: https://pandas.pydata.org/pandas-docs/stable/user_guide/indexing.html#returning-a-view-versus-a-copy\n",
      "  taxi[\"fl_date\"] = pd.to_datetime(taxi[\"fl_date\"])\n"
     ]
    }
   ],
   "source": [
    "taxi[\"fl_date\"] = pd.to_datetime(taxi[\"fl_date\"])\n"
   ]
  },
  {
   "cell_type": "code",
   "execution_count": 122,
   "metadata": {},
   "outputs": [
    {
     "data": {
      "text/html": [
       "<div>\n",
       "<style scoped>\n",
       "    .dataframe tbody tr th:only-of-type {\n",
       "        vertical-align: middle;\n",
       "    }\n",
       "\n",
       "    .dataframe tbody tr th {\n",
       "        vertical-align: top;\n",
       "    }\n",
       "\n",
       "    .dataframe thead th {\n",
       "        text-align: right;\n",
       "    }\n",
       "</style>\n",
       "<table border=\"1\" class=\"dataframe\">\n",
       "  <thead>\n",
       "    <tr style=\"text-align: right;\">\n",
       "      <th></th>\n",
       "      <th>fl_date</th>\n",
       "      <th>taxi_in</th>\n",
       "      <th>taxi_out</th>\n",
       "      <th>arr_delay</th>\n",
       "    </tr>\n",
       "    <tr>\n",
       "      <th>fl_date</th>\n",
       "      <th></th>\n",
       "      <th></th>\n",
       "      <th></th>\n",
       "      <th></th>\n",
       "    </tr>\n",
       "  </thead>\n",
       "  <tbody>\n",
       "    <tr>\n",
       "      <th>1</th>\n",
       "      <td>3241</td>\n",
       "      <td>3200</td>\n",
       "      <td>3201</td>\n",
       "      <td>3192</td>\n",
       "    </tr>\n",
       "    <tr>\n",
       "      <th>2</th>\n",
       "      <td>3227</td>\n",
       "      <td>3152</td>\n",
       "      <td>3153</td>\n",
       "      <td>3144</td>\n",
       "    </tr>\n",
       "    <tr>\n",
       "      <th>3</th>\n",
       "      <td>3360</td>\n",
       "      <td>3282</td>\n",
       "      <td>3284</td>\n",
       "      <td>3273</td>\n",
       "    </tr>\n",
       "    <tr>\n",
       "      <th>4</th>\n",
       "      <td>3220</td>\n",
       "      <td>3172</td>\n",
       "      <td>3173</td>\n",
       "      <td>3167</td>\n",
       "    </tr>\n",
       "    <tr>\n",
       "      <th>5</th>\n",
       "      <td>3178</td>\n",
       "      <td>3134</td>\n",
       "      <td>3136</td>\n",
       "      <td>3121</td>\n",
       "    </tr>\n",
       "    <tr>\n",
       "      <th>6</th>\n",
       "      <td>3257</td>\n",
       "      <td>3219</td>\n",
       "      <td>3221</td>\n",
       "      <td>3215</td>\n",
       "    </tr>\n",
       "    <tr>\n",
       "      <th>7</th>\n",
       "      <td>3257</td>\n",
       "      <td>3191</td>\n",
       "      <td>3192</td>\n",
       "      <td>3182</td>\n",
       "    </tr>\n",
       "    <tr>\n",
       "      <th>8</th>\n",
       "      <td>3204</td>\n",
       "      <td>3160</td>\n",
       "      <td>3162</td>\n",
       "      <td>3154</td>\n",
       "    </tr>\n",
       "    <tr>\n",
       "      <th>9</th>\n",
       "      <td>3244</td>\n",
       "      <td>3189</td>\n",
       "      <td>3190</td>\n",
       "      <td>3184</td>\n",
       "    </tr>\n",
       "    <tr>\n",
       "      <th>10</th>\n",
       "      <td>3198</td>\n",
       "      <td>3145</td>\n",
       "      <td>3147</td>\n",
       "      <td>3141</td>\n",
       "    </tr>\n",
       "    <tr>\n",
       "      <th>11</th>\n",
       "      <td>3296</td>\n",
       "      <td>3232</td>\n",
       "      <td>3234</td>\n",
       "      <td>3226</td>\n",
       "    </tr>\n",
       "    <tr>\n",
       "      <th>12</th>\n",
       "      <td>3311</td>\n",
       "      <td>3253</td>\n",
       "      <td>3254</td>\n",
       "      <td>3249</td>\n",
       "    </tr>\n",
       "    <tr>\n",
       "      <th>13</th>\n",
       "      <td>3281</td>\n",
       "      <td>3220</td>\n",
       "      <td>3221</td>\n",
       "      <td>3214</td>\n",
       "    </tr>\n",
       "    <tr>\n",
       "      <th>14</th>\n",
       "      <td>3413</td>\n",
       "      <td>3348</td>\n",
       "      <td>3350</td>\n",
       "      <td>3332</td>\n",
       "    </tr>\n",
       "    <tr>\n",
       "      <th>15</th>\n",
       "      <td>3380</td>\n",
       "      <td>3302</td>\n",
       "      <td>3304</td>\n",
       "      <td>3294</td>\n",
       "    </tr>\n",
       "    <tr>\n",
       "      <th>16</th>\n",
       "      <td>3287</td>\n",
       "      <td>3252</td>\n",
       "      <td>3254</td>\n",
       "      <td>3247</td>\n",
       "    </tr>\n",
       "    <tr>\n",
       "      <th>17</th>\n",
       "      <td>3281</td>\n",
       "      <td>3222</td>\n",
       "      <td>3223</td>\n",
       "      <td>3215</td>\n",
       "    </tr>\n",
       "    <tr>\n",
       "      <th>18</th>\n",
       "      <td>3402</td>\n",
       "      <td>3327</td>\n",
       "      <td>3329</td>\n",
       "      <td>3323</td>\n",
       "    </tr>\n",
       "    <tr>\n",
       "      <th>19</th>\n",
       "      <td>3282</td>\n",
       "      <td>3211</td>\n",
       "      <td>3214</td>\n",
       "      <td>3208</td>\n",
       "    </tr>\n",
       "    <tr>\n",
       "      <th>20</th>\n",
       "      <td>3317</td>\n",
       "      <td>3240</td>\n",
       "      <td>3241</td>\n",
       "      <td>3235</td>\n",
       "    </tr>\n",
       "    <tr>\n",
       "      <th>21</th>\n",
       "      <td>3437</td>\n",
       "      <td>3362</td>\n",
       "      <td>3362</td>\n",
       "      <td>3353</td>\n",
       "    </tr>\n",
       "    <tr>\n",
       "      <th>22</th>\n",
       "      <td>3353</td>\n",
       "      <td>3301</td>\n",
       "      <td>3303</td>\n",
       "      <td>3294</td>\n",
       "    </tr>\n",
       "    <tr>\n",
       "      <th>23</th>\n",
       "      <td>3236</td>\n",
       "      <td>3196</td>\n",
       "      <td>3197</td>\n",
       "      <td>3193</td>\n",
       "    </tr>\n",
       "    <tr>\n",
       "      <th>24</th>\n",
       "      <td>3310</td>\n",
       "      <td>3261</td>\n",
       "      <td>3264</td>\n",
       "      <td>3253</td>\n",
       "    </tr>\n",
       "    <tr>\n",
       "      <th>25</th>\n",
       "      <td>3325</td>\n",
       "      <td>3286</td>\n",
       "      <td>3288</td>\n",
       "      <td>3284</td>\n",
       "    </tr>\n",
       "    <tr>\n",
       "      <th>26</th>\n",
       "      <td>3343</td>\n",
       "      <td>3289</td>\n",
       "      <td>3291</td>\n",
       "      <td>3278</td>\n",
       "    </tr>\n",
       "    <tr>\n",
       "      <th>27</th>\n",
       "      <td>3337</td>\n",
       "      <td>3283</td>\n",
       "      <td>3284</td>\n",
       "      <td>3276</td>\n",
       "    </tr>\n",
       "    <tr>\n",
       "      <th>28</th>\n",
       "      <td>3248</td>\n",
       "      <td>3197</td>\n",
       "      <td>3198</td>\n",
       "      <td>3187</td>\n",
       "    </tr>\n",
       "    <tr>\n",
       "      <th>29</th>\n",
       "      <td>3003</td>\n",
       "      <td>2949</td>\n",
       "      <td>2950</td>\n",
       "      <td>2942</td>\n",
       "    </tr>\n",
       "    <tr>\n",
       "      <th>30</th>\n",
       "      <td>2936</td>\n",
       "      <td>2880</td>\n",
       "      <td>2880</td>\n",
       "      <td>2876</td>\n",
       "    </tr>\n",
       "    <tr>\n",
       "      <th>31</th>\n",
       "      <td>1836</td>\n",
       "      <td>1808</td>\n",
       "      <td>1808</td>\n",
       "      <td>1799</td>\n",
       "    </tr>\n",
       "  </tbody>\n",
       "</table>\n",
       "</div>"
      ],
      "text/plain": [
       "         fl_date  taxi_in  taxi_out  arr_delay\n",
       "fl_date                                       \n",
       "1           3241     3200      3201       3192\n",
       "2           3227     3152      3153       3144\n",
       "3           3360     3282      3284       3273\n",
       "4           3220     3172      3173       3167\n",
       "5           3178     3134      3136       3121\n",
       "6           3257     3219      3221       3215\n",
       "7           3257     3191      3192       3182\n",
       "8           3204     3160      3162       3154\n",
       "9           3244     3189      3190       3184\n",
       "10          3198     3145      3147       3141\n",
       "11          3296     3232      3234       3226\n",
       "12          3311     3253      3254       3249\n",
       "13          3281     3220      3221       3214\n",
       "14          3413     3348      3350       3332\n",
       "15          3380     3302      3304       3294\n",
       "16          3287     3252      3254       3247\n",
       "17          3281     3222      3223       3215\n",
       "18          3402     3327      3329       3323\n",
       "19          3282     3211      3214       3208\n",
       "20          3317     3240      3241       3235\n",
       "21          3437     3362      3362       3353\n",
       "22          3353     3301      3303       3294\n",
       "23          3236     3196      3197       3193\n",
       "24          3310     3261      3264       3253\n",
       "25          3325     3286      3288       3284\n",
       "26          3343     3289      3291       3278\n",
       "27          3337     3283      3284       3276\n",
       "28          3248     3197      3198       3187\n",
       "29          3003     2949      2950       2942\n",
       "30          2936     2880      2880       2876\n",
       "31          1836     1808      1808       1799"
      ]
     },
     "execution_count": 122,
     "metadata": {},
     "output_type": "execute_result"
    }
   ],
   "source": [
    "\n",
    "taxi.groupby(taxi[\"fl_date\"].dt.day).count()"
   ]
  },
  {
   "cell_type": "markdown",
   "metadata": {},
   "source": [
    "#### **Task 5**: What is the average percentage of delays that is already created before departure? (aka are arrival delays caused by departure delays?) Are airlines able to lower the delay during the flights?"
   ]
  },
  {
   "cell_type": "code",
   "execution_count": null,
   "metadata": {},
   "outputs": [],
   "source": []
  },
  {
   "cell_type": "code",
   "execution_count": null,
   "metadata": {},
   "outputs": [],
   "source": []
  },
  {
   "cell_type": "markdown",
   "metadata": {},
   "source": [
    "#### **Task 6**: How many states cover 50% of US air traffic? "
   ]
  },
  {
   "cell_type": "code",
   "execution_count": 160,
   "metadata": {},
   "outputs": [
    {
     "data": {
      "text/plain": [
       "50.6658218172309"
      ]
     },
     "execution_count": 160,
     "metadata": {},
     "output_type": "execute_result"
    }
   ],
   "source": [
    "g = df.groupby(\"origin\")\n",
    "percentage = g.count()[\"fl_date\"] / df.shape[0] * 100\n",
    "percentage[percentage > 1.75].sum()\n"
   ]
  },
  {
   "cell_type": "code",
   "execution_count": null,
   "metadata": {},
   "outputs": [],
   "source": []
  },
  {
   "cell_type": "markdown",
   "metadata": {},
   "source": [
    "#### **Task 7**: Test the hypothesis whether planes fly faster when there is the departure delay? "
   ]
  },
  {
   "cell_type": "code",
   "execution_count": null,
   "metadata": {},
   "outputs": [],
   "source": []
  },
  {
   "cell_type": "code",
   "execution_count": null,
   "metadata": {},
   "outputs": [],
   "source": []
  },
  {
   "cell_type": "markdown",
   "metadata": {},
   "source": [
    "#### **Task 8**: When (which hour) do most 'LONG', 'SHORT', 'MEDIUM' haul flights take off?"
   ]
  },
  {
   "cell_type": "code",
   "execution_count": null,
   "metadata": {},
   "outputs": [],
   "source": []
  },
  {
   "cell_type": "code",
   "execution_count": null,
   "metadata": {},
   "outputs": [],
   "source": []
  },
  {
   "cell_type": "markdown",
   "metadata": {},
   "source": [
    "#### **Task 9**: Find the top 10 the bussiest airports. Does the biggest number of flights mean that the biggest number of passengers went through the particular airport? How much traffic do these 10 airports cover?"
   ]
  },
  {
   "cell_type": "code",
   "execution_count": null,
   "metadata": {},
   "outputs": [],
   "source": []
  },
  {
   "cell_type": "code",
   "execution_count": null,
   "metadata": {},
   "outputs": [],
   "source": []
  },
  {
   "cell_type": "markdown",
   "metadata": {},
   "source": [
    "#### **Task 10**: Do bigger delays lead to bigger fuel comsumption per passenger? \n",
    "We need to do four things to answer this as accurate as possible:\n",
    "- Find out average monthly delay per air carrier (monthly delay is sum of all delays in 1 month)\n",
    "- Find out distance covered monthly by different air carriers\n",
    "- Find out number of passengers that were carried by different air carriers\n",
    "- Find out total fuel comsumption per air carrier.\n",
    "\n",
    "Use this information to get the average fuel comsumption per passenger per km. Is this higher for the airlines with bigger average delays?"
   ]
  },
  {
   "cell_type": "code",
   "execution_count": null,
   "metadata": {},
   "outputs": [],
   "source": []
  },
  {
   "cell_type": "code",
   "execution_count": null,
   "metadata": {},
   "outputs": [],
   "source": []
  }
 ],
 "metadata": {
  "interpreter": {
   "hash": "ab75102df392e67dfa6fb2bbdefb5fa1cd021f773a140c22f59ac9db50a3c341"
  },
  "kernelspec": {
   "display_name": "Python 3.9.13 ('bootcamp')",
   "language": "python",
   "name": "python3"
  },
  "language_info": {
   "codemirror_mode": {
    "name": "ipython",
    "version": 3
   },
   "file_extension": ".py",
   "mimetype": "text/x-python",
   "name": "python",
   "nbconvert_exporter": "python",
   "pygments_lexer": "ipython3",
   "version": "3.9.13"
  },
  "toc": {
   "base_numbering": 1,
   "nav_menu": {},
   "number_sections": true,
   "sideBar": true,
   "skip_h1_title": false,
   "title_cell": "Table of Contents",
   "title_sidebar": "Contents",
   "toc_cell": false,
   "toc_position": {},
   "toc_section_display": true,
   "toc_window_display": false
  },
  "varInspector": {
   "cols": {
    "lenName": 16,
    "lenType": 16,
    "lenVar": 40
   },
   "kernels_config": {
    "python": {
     "delete_cmd_postfix": "",
     "delete_cmd_prefix": "del ",
     "library": "var_list.py",
     "varRefreshCmd": "print(var_dic_list())"
    },
    "r": {
     "delete_cmd_postfix": ") ",
     "delete_cmd_prefix": "rm(",
     "library": "var_list.r",
     "varRefreshCmd": "cat(var_dic_list()) "
    }
   },
   "types_to_exclude": [
    "module",
    "function",
    "builtin_function_or_method",
    "instance",
    "_Feature"
   ],
   "window_display": false
  }
 },
 "nbformat": 4,
 "nbformat_minor": 4
}
